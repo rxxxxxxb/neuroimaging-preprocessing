{
 "cells": [
  {
   "cell_type": "code",
   "execution_count": 1,
   "id": "68e87c06-e747-4380-af81-432c24b05eda",
   "metadata": {},
   "outputs": [],
   "source": [
    "import dicom2nifti\n",
    "import numpy as np\n",
    "\n",
    "import nibabel as nib\n",
    "import nilearn as nil\n",
    "import scipy.ndimage as ndi\n",
    "import matplotlib.pyplot as plt\n",
    "import os"
   ]
  },
  {
   "cell_type": "code",
   "execution_count": 2,
   "id": "057d62cd-cdd3-4511-bf2b-0f20d4433625",
   "metadata": {},
   "outputs": [
    {
     "data": {
      "text/plain": [
       "['compressed_nii',\n",
       " 'nr_28_label.nii',\n",
       " 'nr_38_label.nii',\n",
       " 'nr_56_label.nii',\n",
       " 'nr_60_label.nii',\n",
       " 'nr_74_label.nii',\n",
       " 'nr_78_label.nii',\n",
       " 'nr_x10_label.nii',\n",
       " 'nr_x11_label.nii',\n",
       " 'nr_x12_label.nii',\n",
       " 'nr_x13_label.nii',\n",
       " 'nr_x14_label.nii',\n",
       " 'nr_x15_label.nii',\n",
       " 'nr_x17_label.nii',\n",
       " 'nr_x18_label.nii',\n",
       " 'nr_x19_label.nii',\n",
       " 'nr_x1_label.nii',\n",
       " 'nr_x20_label.nii.gz',\n",
       " 'nr_x21_label.nii.gz',\n",
       " 'nr_x2_label.nii',\n",
       " 'nr_x3_label.nii',\n",
       " 'nr_x4_label.nii',\n",
       " 'nr_x5u_label.nii',\n",
       " 'nr_x5_label.nii',\n",
       " 'nr_x6_label.nii',\n",
       " 'nr_x7_label.nii',\n",
       " 'nr_x8_label.nii',\n",
       " 'nr_x9_label.nii']"
      ]
     },
     "execution_count": 2,
     "metadata": {},
     "output_type": "execute_result"
    }
   ],
   "source": [
    "dir_path = r'DIR_PATH'\n",
    "os.listdir(dir_path)\n"
   ]
  },
  {
   "cell_type": "code",
   "execution_count": 6,
   "id": "22f690c2-0783-438f-aaff-a55222bd0efe",
   "metadata": {},
   "outputs": [],
   "source": [
    "nifti_file = r'nifti_file_path'\n",
    "\n",
    "nifti_seg_mask = nib.load(nifti_file)\n"
   ]
  },
  {
   "cell_type": "code",
   "execution_count": 32,
   "id": "a097b15e-e036-4ebc-a7d7-87169461f308",
   "metadata": {},
   "outputs": [
    {
     "name": "stdout",
     "output_type": "stream",
     "text": [
      "Unique labels: [ 0.  1.  2.  3.  4.  5.  6.  7.  8.  9. 10. 11. 12. 13. 14. 15.]\n",
      "Number of labels: 16\n",
      "Counts: [24043287     1426      214      446      355      204      158     1163\n",
      "     1728     1960    16444       87       98      377      732    15801]\n"
     ]
    }
   ],
   "source": [
    "\n",
    "# Get the segmentation mask data as a NumPy array\n",
    "segmentation_data = nifti_seg_mask.get_fdata()\n",
    "\n",
    "# Find unique labels in the segmentation mask\n",
    "unique_labels, counts = np.unique(segmentation_data,  return_counts=True)\n",
    "\n",
    "# Output the labels and their count\n",
    "print(f\"Unique labels: {unique_labels}\")\n",
    "print(f\"Number of labels: {len(unique_labels)}\")\n",
    "print(\"Counts:\", counts)\n"
   ]
  }
 ],
 "metadata": {
  "kernelspec": {
   "display_name": "Python 3 (ipykernel)",
   "language": "python",
   "name": "python3"
  },
  "language_info": {
   "codemirror_mode": {
    "name": "ipython",
    "version": 3
   },
   "file_extension": ".py",
   "mimetype": "text/x-python",
   "name": "python",
   "nbconvert_exporter": "python",
   "pygments_lexer": "ipython3",
   "version": "3.12.4"
  }
 },
 "nbformat": 4,
 "nbformat_minor": 5
}
