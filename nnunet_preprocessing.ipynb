{
 "cells": [
  {
   "cell_type": "code",
   "execution_count": 35,
   "id": "12686997-2708-4c83-908e-a0e561f8d5ff",
   "metadata": {},
   "outputs": [],
   "source": [
    "import os\n",
    "import numpy as np\n",
    "import nibabel as nib\n",
    "import shutil\n"
   ]
  },
  {
   "cell_type": "code",
   "execution_count": 36,
   "id": "f5b4bbc4-4ec5-49c8-a204-f5f4e3c71faa",
   "metadata": {},
   "outputs": [],
   "source": [
    "input_dir = r'DIR_LOCATION'\n",
    "output_dir = r'DIR_LOCATION'"
   ]
  },
  {
   "cell_type": "code",
   "execution_count": 37,
   "id": "557a14f7-85e0-431c-8e38-4afbcf0f1bdb",
   "metadata": {},
   "outputs": [],
   "source": [
    "# Create output directories if they don't exist\n",
    "normal_dir = os.path.join(output_dir, \"normal_MRI\")\n",
    "contrast_dir = os.path.join(output_dir, \"contrast_enhanced_MRI\")\n",
    "label_dir = os.path.join(output_dir, \"label_map\")\n",
    "os.makedirs(normal_dir, exist_ok=True)\n",
    "os.makedirs(contrast_dir, exist_ok=True)\n",
    "os.makedirs(label_dir, exist_ok=True)\n"
   ]
  },
  {
   "cell_type": "code",
   "execution_count": 38,
   "id": "5d84c88f-f401-447c-93a8-9c9e4c9bb8f4",
   "metadata": {},
   "outputs": [],
   "source": [
    "nifti_files = [f for f in os.listdir(input_dir) if f.endswith(\".nii\") or f.endswith(\".nii.gz\")]\n"
   ]
  },
  {
   "cell_type": "code",
   "execution_count": 39,
   "id": "6f711a9b-9c41-4189-937c-e34c78fd53ba",
   "metadata": {},
   "outputs": [
    {
     "data": {
      "text/plain": [
       "126"
      ]
     },
     "execution_count": 39,
     "metadata": {},
     "output_type": "execute_result"
    }
   ],
   "source": [
    "len(nifti_files)"
   ]
  },
  {
   "cell_type": "code",
   "execution_count": 47,
   "id": "2c691917-2467-4d7f-a513-2ed7607c6230",
   "metadata": {},
   "outputs": [],
   "source": [
    "# Group files by patient name\n",
    "patients = {}\n",
    "for file in nifti_files:\n",
    "    patient_name = \"_\".join(file.split(\"_\")[:2])  # patient name is the prefix before the second underscore\n",
    "    if patient_name not in patients:\n",
    "        patients[patient_name] = []\n",
    "    patients[patient_name].append(file)"
   ]
  },
  {
   "cell_type": "code",
   "execution_count": 53,
   "id": "4060c3fc-a613-4fd6-9f87-58af4edd47da",
   "metadata": {},
   "outputs": [
    {
     "data": {
      "text/plain": [
       "41"
      ]
     },
     "execution_count": 53,
     "metadata": {},
     "output_type": "execute_result"
    }
   ],
   "source": [
    "# patients = dict(list(patients.items())[:9])\n",
    "patients\n",
    "len(patients.items())"
   ]
  }
 ],
 "metadata": {
  "kernelspec": {
   "display_name": "Python 3 (ipykernel)",
   "language": "python",
   "name": "python3"
  },
  "language_info": {
   "codemirror_mode": {
    "name": "ipython",
    "version": 3
   },
   "file_extension": ".py",
   "mimetype": "text/x-python",
   "name": "python",
   "nbconvert_exporter": "python",
   "pygments_lexer": "ipython3",
   "version": "3.9.21"
  }
 },
 "nbformat": 4,
 "nbformat_minor": 5
}
